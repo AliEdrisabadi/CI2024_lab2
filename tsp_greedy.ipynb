{
 "cells": [
  {
   "cell_type": "markdown",
   "id": "9b3ad493",
   "metadata": {},
   "source": [
    "# Complete Greedy TSP Solution with Italian City Data"
   ]
  },
  {
   "cell_type": "markdown",
   "id": "7b43def7",
   "metadata": {},
   "source": [
    "This notebook demonstrates a Greedy approach to solving the Traveling Salesman Problem (TSP) using a set of Italian cities. It includes all necessary libraries, functions, and logging for full functionality, including cost calculation."
   ]
  },
  {
   "cell_type": "code",
   "execution_count": 1,
   "id": "9b138bb0",
   "metadata": {},
   "outputs": [],
   "source": [
    "\n",
    "import numpy as np\n",
    "import pandas as pd\n",
    "from geopy.distance import geodesic\n",
    "import logging\n",
    "from itertools import combinations\n",
    "\n",
    "# Set up logging\n",
    "logging.basicConfig(level=logging.DEBUG)\n"
   ]
  },
  {
   "cell_type": "code",
   "execution_count": 2,
   "id": "819dc8a7",
   "metadata": {},
   "outputs": [],
   "source": [
    "\n",
    "# Load city data and initialize distance matrix\n",
    "CITIES = pd.read_csv('cities/italy.csv', header=None, names=['City', 'Latitude', 'Longitude'])\n",
    "DIST_MATRIX = np.zeros((len(CITIES), len(CITIES)))\n",
    "\n",
    "# Populate distance matrix with geodesic distances\n",
    "for c1, c2 in combinations(CITIES.itertuples(), 2):\n",
    "    DIST_MATRIX[c1.Index, c2.Index] = DIST_MATRIX[c2.Index, c1.Index] = geodesic(\n",
    "        (c1.Latitude, c1.Longitude), (c2.Latitude, c2.Longitude)).kilometers\n"
   ]
  },
  {
   "cell_type": "code",
   "execution_count": 3,
   "id": "12e3acf7",
   "metadata": {},
   "outputs": [
    {
     "name": "stderr",
     "output_type": "stream",
     "text": [
      "DEBUG:root:Moving from Ancona to Rimini (90.60 km)\n",
      "DEBUG:root:Moving from Rimini to Forlì (46.72 km)\n",
      "DEBUG:root:Moving from Forlì to Ravenna (26.46 km)\n",
      "DEBUG:root:Moving from Ravenna to Ferrara (66.67 km)\n",
      "DEBUG:root:Moving from Ferrara to Bologna (43.43 km)\n",
      "DEBUG:root:Moving from Bologna to Modena (37.29 km)\n",
      "DEBUG:root:Moving from Modena to Reggio nell'Emilia (23.94 km)\n",
      "DEBUG:root:Moving from Reggio nell'Emilia to Parma (26.94 km)\n",
      "DEBUG:root:Moving from Parma to Piacenza (57.65 km)\n",
      "DEBUG:root:Moving from Piacenza to Milan (60.65 km)\n",
      "DEBUG:root:Moving from Milan to Monza (14.51 km)\n",
      "DEBUG:root:Moving from Monza to Bergamo (33.92 km)\n",
      "DEBUG:root:Moving from Bergamo to Brescia (46.02 km)\n",
      "DEBUG:root:Moving from Brescia to Verona (61.42 km)\n",
      "DEBUG:root:Moving from Verona to Vicenza (44.70 km)\n",
      "DEBUG:root:Moving from Vicenza to Padua (30.13 km)\n",
      "DEBUG:root:Moving from Padua to Venice (36.07 km)\n",
      "DEBUG:root:Moving from Venice to Trieste (115.09 km)\n",
      "DEBUG:root:Moving from Trieste to Bolzano (209.68 km)\n",
      "DEBUG:root:Moving from Bolzano to Trento (49.94 km)\n",
      "DEBUG:root:Moving from Trento to Novara (206.69 km)\n",
      "DEBUG:root:Moving from Novara to Turin (84.46 km)\n",
      "DEBUG:root:Moving from Turin to Genoa (123.19 km)\n",
      "DEBUG:root:Moving from Genoa to Leghorn (146.37 km)\n",
      "DEBUG:root:Moving from Leghorn to Prato (74.02 km)\n",
      "DEBUG:root:Moving from Prato to Florence (17.17 km)\n",
      "DEBUG:root:Moving from Florence to Perugia (119.19 km)\n",
      "DEBUG:root:Moving from Perugia to Terni (63.64 km)\n",
      "DEBUG:root:Moving from Terni to Rome (76.54 km)\n",
      "DEBUG:root:Moving from Rome to Latina (56.84 km)\n",
      "DEBUG:root:Moving from Latina to Giugliano in Campania (124.45 km)\n",
      "DEBUG:root:Moving from Giugliano in Campania to Naples (11.15 km)\n",
      "DEBUG:root:Moving from Naples to Salerno (46.25 km)\n",
      "DEBUG:root:Moving from Salerno to Foggia (109.52 km)\n",
      "DEBUG:root:Moving from Foggia to Andria (67.42 km)\n",
      "DEBUG:root:Moving from Andria to Bari (50.18 km)\n",
      "DEBUG:root:Moving from Bari to Taranto (77.63 km)\n",
      "DEBUG:root:Moving from Taranto to Messina (293.02 km)\n",
      "DEBUG:root:Moving from Messina to Reggio di Calabria (12.48 km)\n",
      "DEBUG:root:Moving from Reggio di Calabria to Catania (84.28 km)\n",
      "DEBUG:root:Moving from Catania to Syracuse (51.23 km)\n",
      "DEBUG:root:Moving from Syracuse to Palermo (206.47 km)\n",
      "DEBUG:root:Moving from Palermo to Cagliari (390.28 km)\n",
      "DEBUG:root:Moving from Cagliari to Sassari (173.89 km)\n",
      "DEBUG:root:Moving from Sassari to Pescara (508.61 km)\n",
      "INFO:root:Best Route: ['Ancona', 'Rimini', 'Forlì', 'Ravenna', 'Ferrara', 'Bologna', 'Modena', \"Reggio nell'Emilia\", 'Parma', 'Piacenza', 'Milan', 'Monza', 'Bergamo', 'Brescia', 'Verona', 'Vicenza', 'Padua', 'Venice', 'Trieste', 'Bolzano', 'Trento', 'Novara', 'Turin', 'Genoa', 'Leghorn', 'Prato', 'Florence', 'Perugia', 'Terni', 'Rome', 'Latina', 'Giugliano in Campania', 'Naples', 'Salerno', 'Foggia', 'Andria', 'Bari', 'Taranto', 'Messina', 'Reggio di Calabria', 'Catania', 'Syracuse', 'Palermo', 'Cagliari', 'Sassari', 'Pescara', 'Ancona']\n",
      "INFO:root:Total Distance: inf km\n"
     ]
    }
   ],
   "source": [
    "\n",
    "# Define function to calculate the total route cost\n",
    "def calculate_cost(route, dist_matrix):\n",
    "    return sum(dist_matrix[route[i], route[i+1]] for i in range(len(route) - 1))\n",
    "\n",
    "# Greedy algorithm to find TSP solution\n",
    "def greedy_tsp_solution(cities, dist_matrix):\n",
    "    visited = np.full(len(cities), False)\n",
    "    current_city = 0\n",
    "    visited[current_city] = True\n",
    "    route = [current_city]\n",
    "\n",
    "    while not np.all(visited):\n",
    "        dist_matrix[:, current_city] = np.inf  # Mark current city as visited\n",
    "        next_city = np.argmin(dist_matrix[current_city])\n",
    "        logging.debug(f\"Moving from {cities.at[current_city, 'City']} to {cities.at[next_city, 'City']} \"\n",
    "                      f\"({dist_matrix[current_city, next_city]:.2f} km)\")\n",
    "        visited[next_city] = True\n",
    "        current_city = next_city\n",
    "        route.append(current_city)\n",
    "\n",
    "    route.append(route[0])  # Complete the loop to form a cycle\n",
    "    total_cost = calculate_cost(route, dist_matrix)\n",
    "    return [cities.iloc[i]['City'] for i in route], total_cost\n",
    "\n",
    "# Execute the Greedy TSP solution\n",
    "best_route, route_cost = greedy_tsp_solution(CITIES, DIST_MATRIX.copy())\n",
    "\n",
    "# Log final results\n",
    "logging.info(f\"Best Route: {best_route}\")\n",
    "logging.info(f\"Total Distance: {route_cost:.2f} km\")\n"
   ]
  }
 ],
 "metadata": {
  "kernelspec": {
   "display_name": "Python 3",
   "language": "python",
   "name": "python3"
  },
  "language_info": {
   "codemirror_mode": {
    "name": "ipython",
    "version": 3
   },
   "file_extension": ".py",
   "mimetype": "text/x-python",
   "name": "python",
   "nbconvert_exporter": "python",
   "pygments_lexer": "ipython3",
   "version": "3.12.3"
  }
 },
 "nbformat": 4,
 "nbformat_minor": 5
}
